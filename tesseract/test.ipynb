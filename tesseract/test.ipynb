{
 "cells": [
  {
   "cell_type": "code",
   "execution_count": 3,
   "metadata": {},
   "outputs": [],
   "source": [
    "from PIL import Image"
   ]
  },
  {
   "cell_type": "code",
   "execution_count": 4,
   "metadata": {},
   "outputs": [],
   "source": [
    "import pytesseract"
   ]
  },
  {
   "cell_type": "code",
   "execution_count": 5,
   "metadata": {},
   "outputs": [],
   "source": [
    "image_path = \"/Users/kakao/vs_code/test.jpg\""
   ]
  },
  {
   "cell_type": "code",
   "execution_count": 6,
   "metadata": {},
   "outputs": [
    {
     "name": "stdout",
     "output_type": "stream",
     "text": [
      "사업자등록증\n",
      "( 법인사업자 )\n",
      "등록번호 : 687-88-01143\n",
      "벌인명(단체명) : 와이드메이커스 주식회사(01084860(6 100.)\n",
      "대 . 표 자 : 정상섭\n",
      "\n",
      "개 월 연 월 일 : 2019 년 01 월 11 일. 법인등록번호 : 110111-6982684\n",
      "사업장 소재지 : 서물특별시 서초구 강남대로 373, 13층 111호(서초동)\n",
      "\n",
      "본점 소재지\n",
      "\n",
      "사업 의 종류 : [인] 제조일.    [초록] 의류\n",
      "도소매              의류, 잡화, 악세사리\n",
      "도매               무역\n",
      "소매               전자상거래업\n",
      "부동산              매매업\n",
      "\n",
      "발 글 사 유:정정\n",
      "\n",
      "사업자 단위 과세 적용사업자 여부 : 여( ) 부(/)\n",
      "전자세금계산서 전용 전자무편주소\n",
      "\n",
      "2019 년 01 월 18 일\n",
      "\n",
      "서초세무서장\n",
      "\n",
      "\n"
     ]
    }
   ],
   "source": [
    "pytesseract.pytesseract.tesseract_cmd = '/opt/homebrew/bin/tesseract'\n",
    "\n",
    "text = pytesseract.image_to_string(Image.open(image_path),lang=\"Kor\")\n",
    "\n",
    "print(text)"
   ]
  },
  {
   "cell_type": "code",
   "execution_count": 11,
   "metadata": {},
   "outputs": [],
   "source": [
    "test = text.split(\"\\n\")"
   ]
  },
  {
   "cell_type": "code",
   "execution_count": 12,
   "metadata": {},
   "outputs": [
    {
     "name": "stdout",
     "output_type": "stream",
     "text": [
      "['사업자등록증', '( 법인사업자 )', '등록번호 : 687-88-01143', '벌인명(단체명) : 와이드메이커스 주식회사(01084860(6 100.)', '대 . 표 자 : 정상섭', '', '개 월 연 월 일 : 2019 년 01 월 11 일. 법인등록번호 : 110111-6982684', '사업장 소재지 : 서물특별시 서초구 강남대로 373, 13층 111호(서초동)', '', '본점 소재지', '', '사업 의 종류 : [인] 제조일.    [초록] 의류', '도소매              의류, 잡화, 악세사리', '도매               무역', '소매               전자상거래업', '부동산              매매업', '', '발 글 사 유:정정', '', '사업자 단위 과세 적용사업자 여부 : 여( ) 부(/)', '전자세금계산서 전용 전자무편주소', '', '2019 년 01 월 18 일', '', '서초세무서장', '', '']\n"
     ]
    }
   ],
   "source": [
    "print(test)"
   ]
  },
  {
   "cell_type": "code",
   "execution_count": 13,
   "metadata": {},
   "outputs": [
    {
     "name": "stdout",
     "output_type": "stream",
     "text": [
      "등록번호 : 687-88-01143\n",
      "개 월 연 월 일 : 2019 년 01 월 11 일. 법인등록번호 : 110111-6982684\n"
     ]
    }
   ],
   "source": [
    "for i in range(0, len(test)):\n",
    "    if \"등록번호\" in test[i]:\n",
    "        print(test[i])"
   ]
  },
  {
   "cell_type": "code",
   "execution_count": null,
   "metadata": {},
   "outputs": [],
   "source": [
    "# https://smart-factory-lee-joon-ho.tistory.com/238"
   ]
  },
  {
   "cell_type": "code",
   "execution_count": null,
   "metadata": {},
   "outputs": [],
   "source": [
    "# -*- coding: utf-8 -*-\n",
    "\n",
    "extract = \"\"\"\\\n",
    "Member||*NAYEON||*0.00||*0000036$$Member||*JEONGYEON||*0.00||*0000037$$Member||*MOMO||*0.00||*0000038$$Member||*SANA||*0.00||*0000039$$Member||*JIHYO||*0.00||*0000040$$Member||*MINA||*0.00||Member||*DAHYUN||*0.00||*0000041$$Member||*CHAEYOUNG||*0.00||*0000042$$Member||*TZUYU||*0.00||*0000043$$\"\"\"\n",
    "\n",
    "lst = extract.split(\"||*\")\n",
    "\n",
    "for i in range(0, len(lst)):\n",
    "    if \"Member\" in lst[i]:\n",
    "        print(lst[i+1])"
   ]
  }
 ],
 "metadata": {
  "kernelspec": {
   "display_name": "Python 3 (ipykernel)",
   "language": "python",
   "name": "python3"
  },
  "language_info": {
   "codemirror_mode": {
    "name": "ipython",
    "version": 3
   },
   "file_extension": ".py",
   "mimetype": "text/x-python",
   "name": "python",
   "nbconvert_exporter": "python",
   "pygments_lexer": "ipython3",
   "version": "3.9.13"
  },
  "vscode": {
   "interpreter": {
    "hash": "c5065d323e0a2fbcdc0cd8123a3c6ca1c989c8001f491b51658e4f52f32ff04a"
   }
  }
 },
 "nbformat": 4,
 "nbformat_minor": 2
}
